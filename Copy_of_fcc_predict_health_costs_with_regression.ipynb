{
  "cells": [
    {
      "cell_type": "markdown",
      "metadata": {
        "id": "view-in-github",
        "colab_type": "text"
      },
      "source": [
        "<a href=\"https://colab.research.google.com/github/kinome79/Colaborator/blob/main/Copy_of_fcc_predict_health_costs_with_regression.ipynb\" target=\"_parent\"><img src=\"https://colab.research.google.com/assets/colab-badge.svg\" alt=\"Open In Colab\"/></a>"
      ]
    },
    {
      "cell_type": "code",
      "execution_count": 1,
      "metadata": {
        "id": "1rRo8oNqZ-Rj",
        "colab": {
          "base_uri": "https://localhost:8080/"
        },
        "outputId": "ff6d2046-c94e-41e1-b95c-df2773f9cc29"
      },
      "outputs": [
        {
          "output_type": "stream",
          "name": "stdout",
          "text": [
            "  Preparing metadata (setup.py) ... \u001b[?25l\u001b[?25hdone\n",
            "  Building wheel for tensorflow-docs (setup.py) ... \u001b[?25l\u001b[?25hdone\n",
            "Colab only includes TensorFlow 2.x; %tensorflow_version has no effect.\n"
          ]
        }
      ],
      "source": [
        "# Import libraries. You may or may not use all of these.\n",
        "!pip install -q git+https://github.com/tensorflow/docs\n",
        "import matplotlib.pyplot as plt\n",
        "import numpy as np\n",
        "import pandas as pd\n",
        "\n",
        "try:\n",
        "  # %tensorflow_version only exists in Colab.\n",
        "  %tensorflow_version 2.x\n",
        "except Exception:\n",
        "  pass\n",
        "import tensorflow as tf\n",
        "\n",
        "from tensorflow import keras\n",
        "from tensorflow.keras import layers\n",
        "\n",
        "import tensorflow_docs as tfdocs\n",
        "import tensorflow_docs.plots\n",
        "import tensorflow_docs.modeling"
      ]
    },
    {
      "cell_type": "code",
      "execution_count": 2,
      "metadata": {
        "id": "CiX2FI4gZtTt",
        "colab": {
          "base_uri": "https://localhost:8080/",
          "height": 403
        },
        "outputId": "9f044b4f-2a89-4494-ae4a-fb81929b439e"
      },
      "outputs": [
        {
          "output_type": "stream",
          "name": "stdout",
          "text": [
            "--2023-02-27 14:56:36--  https://cdn.freecodecamp.org/project-data/health-costs/insurance.csv\n",
            "Resolving cdn.freecodecamp.org (cdn.freecodecamp.org)... 104.26.2.33, 172.67.70.149, 104.26.3.33, ...\n",
            "Connecting to cdn.freecodecamp.org (cdn.freecodecamp.org)|104.26.2.33|:443... connected.\n",
            "HTTP request sent, awaiting response... 200 OK\n",
            "Length: 50264 (49K) [text/csv]\n",
            "Saving to: ‘insurance.csv’\n",
            "\n",
            "\rinsurance.csv         0%[                    ]       0  --.-KB/s               \rinsurance.csv       100%[===================>]  49.09K  --.-KB/s    in 0.003s  \n",
            "\n",
            "2023-02-27 14:56:36 (14.2 MB/s) - ‘insurance.csv’ saved [50264/50264]\n",
            "\n"
          ]
        },
        {
          "output_type": "execute_result",
          "data": {
            "text/plain": [
              "      age     sex   bmi  children smoker     region  expenses\n",
              "1333   50    male  31.0         3     no  northwest  10600.55\n",
              "1334   18  female  31.9         0     no  northeast   2205.98\n",
              "1335   18  female  36.9         0     no  southeast   1629.83\n",
              "1336   21  female  25.8         0     no  southwest   2007.95\n",
              "1337   61  female  29.1         0    yes  northwest  29141.36"
            ],
            "text/html": [
              "\n",
              "  <div id=\"df-41908256-8d2f-4166-98ef-90c2015a96fd\">\n",
              "    <div class=\"colab-df-container\">\n",
              "      <div>\n",
              "<style scoped>\n",
              "    .dataframe tbody tr th:only-of-type {\n",
              "        vertical-align: middle;\n",
              "    }\n",
              "\n",
              "    .dataframe tbody tr th {\n",
              "        vertical-align: top;\n",
              "    }\n",
              "\n",
              "    .dataframe thead th {\n",
              "        text-align: right;\n",
              "    }\n",
              "</style>\n",
              "<table border=\"1\" class=\"dataframe\">\n",
              "  <thead>\n",
              "    <tr style=\"text-align: right;\">\n",
              "      <th></th>\n",
              "      <th>age</th>\n",
              "      <th>sex</th>\n",
              "      <th>bmi</th>\n",
              "      <th>children</th>\n",
              "      <th>smoker</th>\n",
              "      <th>region</th>\n",
              "      <th>expenses</th>\n",
              "    </tr>\n",
              "  </thead>\n",
              "  <tbody>\n",
              "    <tr>\n",
              "      <th>1333</th>\n",
              "      <td>50</td>\n",
              "      <td>male</td>\n",
              "      <td>31.0</td>\n",
              "      <td>3</td>\n",
              "      <td>no</td>\n",
              "      <td>northwest</td>\n",
              "      <td>10600.55</td>\n",
              "    </tr>\n",
              "    <tr>\n",
              "      <th>1334</th>\n",
              "      <td>18</td>\n",
              "      <td>female</td>\n",
              "      <td>31.9</td>\n",
              "      <td>0</td>\n",
              "      <td>no</td>\n",
              "      <td>northeast</td>\n",
              "      <td>2205.98</td>\n",
              "    </tr>\n",
              "    <tr>\n",
              "      <th>1335</th>\n",
              "      <td>18</td>\n",
              "      <td>female</td>\n",
              "      <td>36.9</td>\n",
              "      <td>0</td>\n",
              "      <td>no</td>\n",
              "      <td>southeast</td>\n",
              "      <td>1629.83</td>\n",
              "    </tr>\n",
              "    <tr>\n",
              "      <th>1336</th>\n",
              "      <td>21</td>\n",
              "      <td>female</td>\n",
              "      <td>25.8</td>\n",
              "      <td>0</td>\n",
              "      <td>no</td>\n",
              "      <td>southwest</td>\n",
              "      <td>2007.95</td>\n",
              "    </tr>\n",
              "    <tr>\n",
              "      <th>1337</th>\n",
              "      <td>61</td>\n",
              "      <td>female</td>\n",
              "      <td>29.1</td>\n",
              "      <td>0</td>\n",
              "      <td>yes</td>\n",
              "      <td>northwest</td>\n",
              "      <td>29141.36</td>\n",
              "    </tr>\n",
              "  </tbody>\n",
              "</table>\n",
              "</div>\n",
              "      <button class=\"colab-df-convert\" onclick=\"convertToInteractive('df-41908256-8d2f-4166-98ef-90c2015a96fd')\"\n",
              "              title=\"Convert this dataframe to an interactive table.\"\n",
              "              style=\"display:none;\">\n",
              "        \n",
              "  <svg xmlns=\"http://www.w3.org/2000/svg\" height=\"24px\"viewBox=\"0 0 24 24\"\n",
              "       width=\"24px\">\n",
              "    <path d=\"M0 0h24v24H0V0z\" fill=\"none\"/>\n",
              "    <path d=\"M18.56 5.44l.94 2.06.94-2.06 2.06-.94-2.06-.94-.94-2.06-.94 2.06-2.06.94zm-11 1L8.5 8.5l.94-2.06 2.06-.94-2.06-.94L8.5 2.5l-.94 2.06-2.06.94zm10 10l.94 2.06.94-2.06 2.06-.94-2.06-.94-.94-2.06-.94 2.06-2.06.94z\"/><path d=\"M17.41 7.96l-1.37-1.37c-.4-.4-.92-.59-1.43-.59-.52 0-1.04.2-1.43.59L10.3 9.45l-7.72 7.72c-.78.78-.78 2.05 0 2.83L4 21.41c.39.39.9.59 1.41.59.51 0 1.02-.2 1.41-.59l7.78-7.78 2.81-2.81c.8-.78.8-2.07 0-2.86zM5.41 20L4 18.59l7.72-7.72 1.47 1.35L5.41 20z\"/>\n",
              "  </svg>\n",
              "      </button>\n",
              "      \n",
              "  <style>\n",
              "    .colab-df-container {\n",
              "      display:flex;\n",
              "      flex-wrap:wrap;\n",
              "      gap: 12px;\n",
              "    }\n",
              "\n",
              "    .colab-df-convert {\n",
              "      background-color: #E8F0FE;\n",
              "      border: none;\n",
              "      border-radius: 50%;\n",
              "      cursor: pointer;\n",
              "      display: none;\n",
              "      fill: #1967D2;\n",
              "      height: 32px;\n",
              "      padding: 0 0 0 0;\n",
              "      width: 32px;\n",
              "    }\n",
              "\n",
              "    .colab-df-convert:hover {\n",
              "      background-color: #E2EBFA;\n",
              "      box-shadow: 0px 1px 2px rgba(60, 64, 67, 0.3), 0px 1px 3px 1px rgba(60, 64, 67, 0.15);\n",
              "      fill: #174EA6;\n",
              "    }\n",
              "\n",
              "    [theme=dark] .colab-df-convert {\n",
              "      background-color: #3B4455;\n",
              "      fill: #D2E3FC;\n",
              "    }\n",
              "\n",
              "    [theme=dark] .colab-df-convert:hover {\n",
              "      background-color: #434B5C;\n",
              "      box-shadow: 0px 1px 3px 1px rgba(0, 0, 0, 0.15);\n",
              "      filter: drop-shadow(0px 1px 2px rgba(0, 0, 0, 0.3));\n",
              "      fill: #FFFFFF;\n",
              "    }\n",
              "  </style>\n",
              "\n",
              "      <script>\n",
              "        const buttonEl =\n",
              "          document.querySelector('#df-41908256-8d2f-4166-98ef-90c2015a96fd button.colab-df-convert');\n",
              "        buttonEl.style.display =\n",
              "          google.colab.kernel.accessAllowed ? 'block' : 'none';\n",
              "\n",
              "        async function convertToInteractive(key) {\n",
              "          const element = document.querySelector('#df-41908256-8d2f-4166-98ef-90c2015a96fd');\n",
              "          const dataTable =\n",
              "            await google.colab.kernel.invokeFunction('convertToInteractive',\n",
              "                                                     [key], {});\n",
              "          if (!dataTable) return;\n",
              "\n",
              "          const docLinkHtml = 'Like what you see? Visit the ' +\n",
              "            '<a target=\"_blank\" href=https://colab.research.google.com/notebooks/data_table.ipynb>data table notebook</a>'\n",
              "            + ' to learn more about interactive tables.';\n",
              "          element.innerHTML = '';\n",
              "          dataTable['output_type'] = 'display_data';\n",
              "          await google.colab.output.renderOutput(dataTable, element);\n",
              "          const docLink = document.createElement('div');\n",
              "          docLink.innerHTML = docLinkHtml;\n",
              "          element.appendChild(docLink);\n",
              "        }\n",
              "      </script>\n",
              "    </div>\n",
              "  </div>\n",
              "  "
            ]
          },
          "metadata": {},
          "execution_count": 2
        }
      ],
      "source": [
        "# Import data\n",
        "!wget https://cdn.freecodecamp.org/project-data/health-costs/insurance.csv\n",
        "dataset = pd.read_csv('insurance.csv')\n",
        "dataset.tail()"
      ]
    },
    {
      "cell_type": "code",
      "execution_count": 3,
      "metadata": {
        "id": "LcopvQh3X-kX",
        "colab": {
          "base_uri": "https://localhost:8080/"
        },
        "outputId": "d905b9b1-ed99-4d59-9854-10a1bf254dc0"
      },
      "outputs": [
        {
          "output_type": "stream",
          "name": "stdout",
          "text": [
            "<class 'pandas.core.frame.DataFrame'>\n",
            "RangeIndex: 1338 entries, 0 to 1337\n",
            "Data columns (total 7 columns):\n",
            " #   Column    Non-Null Count  Dtype  \n",
            "---  ------    --------------  -----  \n",
            " 0   age       1338 non-null   int64  \n",
            " 1   sex       1338 non-null   object \n",
            " 2   bmi       1338 non-null   float64\n",
            " 3   children  1338 non-null   int64  \n",
            " 4   smoker    1338 non-null   object \n",
            " 5   region    1338 non-null   object \n",
            " 6   expenses  1338 non-null   float64\n",
            "dtypes: float64(2), int64(2), object(3)\n",
            "memory usage: 73.3+ KB\n",
            "None -----------------------------\n",
            "\n",
            "\n",
            "               age          bmi     children      expenses\n",
            "count  1338.000000  1338.000000  1338.000000   1338.000000\n",
            "mean     39.207025    30.665471     1.094918  13270.422414\n",
            "std      14.049960     6.098382     1.205493  12110.011240\n",
            "min      18.000000    16.000000     0.000000   1121.870000\n",
            "25%      27.000000    26.300000     0.000000   4740.287500\n",
            "50%      39.000000    30.400000     1.000000   9382.030000\n",
            "75%      51.000000    34.700000     2.000000  16639.915000\n",
            "max      64.000000    53.100000     5.000000  63770.430000\n"
          ]
        }
      ],
      "source": [
        "# View the dataset information\n",
        "print(dataset.info(), \"-----------------------------\\n\\n\")\n",
        "print(dataset.describe())\n"
      ]
    },
    {
      "cell_type": "code",
      "source": [
        "# Check Categorical Values\n",
        "\n",
        "print(\"Sex Categories:\", dataset['sex'].unique(),'\\n'+ str(dataset['sex'].value_counts()), '\\n')\n",
        "print(\"Smoker Categories:\", dataset['smoker'].unique(),'\\n'+ str(dataset['smoker'].value_counts()), '\\n')\n",
        "print(\"Region Categories:\", dataset['region'].unique(),'\\n'+ str(dataset['region'].value_counts()), '\\n')\n"
      ],
      "metadata": {
        "colab": {
          "base_uri": "https://localhost:8080/"
        },
        "id": "6pXTDgvHa-dJ",
        "outputId": "60d22502-5dce-49cd-b890-5162cbc05d0f"
      },
      "execution_count": 15,
      "outputs": [
        {
          "output_type": "stream",
          "name": "stdout",
          "text": [
            "Sex Categories: ['female' 'male'] \n",
            "male      676\n",
            "female    662\n",
            "Name: sex, dtype: int64 \n",
            "\n",
            "Smoker Categories: ['yes' 'no'] \n",
            "no     1064\n",
            "yes     274\n",
            "Name: smoker, dtype: int64 \n",
            "\n",
            "Region Categories: ['southwest' 'southeast' 'northwest' 'northeast'] \n",
            "southeast    364\n",
            "southwest    325\n",
            "northwest    325\n",
            "northeast    324\n",
            "Name: region, dtype: int64 \n",
            "\n"
          ]
        }
      ]
    },
    {
      "cell_type": "code",
      "source": [
        "# Convert Categorical Values (maintaining original dataframe)\n",
        "\n",
        "df_data = dataset.copy(deep=True)\n",
        "df_data['sex'].replace(['male','female'], [0,1], inplace=True)\n",
        "df_data['smoker'].replace(['no','yes'], [0,1], inplace=True)\n",
        "df_data['region'].replace(['southeast','southwest','northwest','northeast'],[0,1,2,3], inplace=True)\n",
        "\n",
        "print(\"Sex Categories:\", df_data['sex'].unique(),'\\n'+ str(df_data['sex'].value_counts()), '\\n')\n",
        "print(\"Smoker Categories:\", df_data['smoker'].unique(),'\\n'+ str(df_data['smoker'].value_counts()), '\\n')\n",
        "print(\"Region Categories:\", df_data['region'].unique(),'\\n'+ str(df_data['region'].value_counts()), '\\n')"
      ],
      "metadata": {
        "colab": {
          "base_uri": "https://localhost:8080/"
        },
        "id": "iKLtqlgMdIsr",
        "outputId": "c2415d79-3d01-41c7-a7c4-0acb3f54b97a"
      },
      "execution_count": 48,
      "outputs": [
        {
          "output_type": "stream",
          "name": "stdout",
          "text": [
            "Sex Categories: [1 0] \n",
            "0    676\n",
            "1    662\n",
            "Name: sex, dtype: int64 \n",
            "\n",
            "Smoker Categories: [1 0] \n",
            "0    1064\n",
            "1     274\n",
            "Name: smoker, dtype: int64 \n",
            "\n",
            "Region Categories: [1 0 2 3] \n",
            "0    364\n",
            "1    325\n",
            "2    325\n",
            "3    324\n",
            "Name: region, dtype: int64 \n",
            "\n"
          ]
        }
      ]
    },
    {
      "cell_type": "code",
      "source": [
        "# Check distributions, although describe shows all looks in order\n",
        "\n",
        "fig, axes = plt.subplots(nrows=3, ncols=1, figsize=(12, 9))\n",
        "df_data['age'].plot(kind='box', vert=False, ax=axes[0])\n",
        "df_data['bmi'].plot(kind='box', vert=False, ax=axes[1])\n",
        "df_data['expenses'].plot(kind='box', vert=False, ax=axes[2])"
      ],
      "metadata": {
        "colab": {
          "base_uri": "https://localhost:8080/",
          "height": 555
        },
        "id": "Luz-E98rfhfI",
        "outputId": "efab3cca-6999-4175-afae-7b8189f41e9d"
      },
      "execution_count": 49,
      "outputs": [
        {
          "output_type": "execute_result",
          "data": {
            "text/plain": [
              "<AxesSubplot:>"
            ]
          },
          "metadata": {},
          "execution_count": 49
        },
        {
          "output_type": "display_data",
          "data": {
            "text/plain": [
              "<Figure size 864x648 with 3 Axes>"
            ],
            "image/png": "[encoded data removed]"
          },
          "metadata": {
            "needs_background": "light"
          }
        }
      ]
    },
    {
      "cell_type": "code",
      "source": [
        "# Removing the top 1% of outliers for expenses and bmi, keeping original data in case this affects accuracy negatively\n",
        "\n",
        "df_data_f = df_data[df_data['bmi'].le(df_data['bmi'].quantile(0.99)) & df_data['expenses'].le(df_data['expenses'].quantile(0.99))] \n",
        "\n",
        "fig, axes = plt.subplots(nrows=3, ncols=1, figsize=(12, 9))\n",
        "df_data_f['age'].plot(kind='box', vert=False, ax=axes[0])\n",
        "df_data_f['bmi'].plot(kind='box', vert=False, ax=axes[1])\n",
        "df_data_f['expenses'].plot(kind='box', vert=False, ax=axes[2])\n",
        "\n",
        "print(\"Number of rows remaining after outlier removal:\", df_data_f.shape[0])"
      ],
      "metadata": {
        "colab": {
          "base_uri": "https://localhost:8080/",
          "height": 555
        },
        "id": "fBJt6tyGknMn",
        "outputId": "6fdad520-7a4b-47d6-a880-dffaa0af2e5a"
      },
      "execution_count": 65,
      "outputs": [
        {
          "output_type": "stream",
          "name": "stdout",
          "text": [
            "Number of rows remaining after outlier removal: 1311\n"
          ]
        },
        {
          "output_type": "display_data",
          "data": {
            "text/plain": [
              "<Figure size 864x648 with 3 Axes>"
            ],
            "image/png": "[encoded data removed]"
          },
          "metadata": {
            "needs_background": "light"
          }
        }
      ]
    },
    {
      "cell_type": "code",
      "source": [
        "# Build datasets for learning/testing - 20% test data will be every 5th value\n",
        "\n",
        "train_dataset = df_data_f[df_data_f.index % 5 != 0]\n",
        "test_dataset = df_data_f[df_data_f.index % 5 == 0]\n",
        "\n",
        "print(train_dataset)\n",
        "print(test_dataset)\n"
      ],
      "metadata": {
        "colab": {
          "base_uri": "https://localhost:8080/"
        },
        "id": "mK5Q4U2bohbQ",
        "outputId": "a3f65906-200b-4b63-e7a2-37f097231d13"
      },
      "execution_count": 83,
      "outputs": [
        {
          "output_type": "stream",
          "name": "stdout",
          "text": [
            "      age  sex   bmi  children  smoker  region  expenses\n",
            "1      18    0  33.8         1       0       0   1725.55\n",
            "2      28    0  33.0         3       0       0   4449.46\n",
            "3      33    0  22.7         0       0       2  21984.47\n",
            "4      32    0  28.9         0       0       2   3866.86\n",
            "6      46    1  33.4         1       0       0   8240.59\n",
            "...   ...  ...   ...       ...     ...     ...       ...\n",
            "1332   52    1  44.7         3       0       1  11411.69\n",
            "1333   50    0  31.0         3       0       2  10600.55\n",
            "1334   18    1  31.9         0       0       3   2205.98\n",
            "1336   21    1  25.8         0       0       1   2007.95\n",
            "1337   61    1  29.1         0       1       2  29141.36\n",
            "\n",
            "[1050 rows x 7 columns]\n",
            "      age  sex   bmi  children  smoker  region  expenses\n",
            "0      19    1  27.9         0       1       1  16884.92\n",
            "5      31    1  25.7         0       0       0   3756.62\n",
            "10     25    0  26.2         0       0       3   2721.32\n",
            "15     19    0  24.6         1       0       1   1837.24\n",
            "20     60    1  36.0         0       0       3  13228.85\n",
            "...   ...  ...   ...       ...     ...     ...       ...\n",
            "1315   18    0  28.3         1       0       3  11272.33\n",
            "1320   31    0  31.1         3       0       2   5425.02\n",
            "1325   61    0  33.5         0       0       3  13143.34\n",
            "1330   57    1  25.7         2       0       0  12629.17\n",
            "1335   18    1  36.9         0       0       0   1629.83\n",
            "\n",
            "[261 rows x 7 columns]\n"
          ]
        }
      ]
    },
    {
      "cell_type": "code",
      "source": [
        "# Separate expenses column out of the training and test datasets\n",
        "\n",
        "train_labels = train_dataset.pop('expenses')\n",
        "test_labels = test_dataset.pop('expenses')\n",
        "\n",
        "print(\"Original Train Dataset:\\n\")\n",
        "print(df_data_f.iloc[1:4], \"\\n----------------------------------------------\\nNew Train Dataset:\\n\")\n",
        "print(train_dataset.head(3), \"\\n-----------------------------------------------\\nNew Label Dataset:\\n\")\n",
        "print(train_labels.head(3), \"\\n-------------------------------\")\n"
      ],
      "metadata": {
        "colab": {
          "base_uri": "https://localhost:8080/"
        },
        "id": "aznnj03Lq1Rd",
        "outputId": "d860df98-f46b-48dd-d7fb-9414dde7316f"
      },
      "execution_count": 84,
      "outputs": [
        {
          "output_type": "stream",
          "name": "stdout",
          "text": [
            "Original Train Dataset:\n",
            "\n",
            "   age  sex   bmi  children  smoker  region  expenses\n",
            "1   18    0  33.8         1       0       0   1725.55\n",
            "2   28    0  33.0         3       0       0   4449.46\n",
            "3   33    0  22.7         0       0       2  21984.47 \n",
            "----------------------------------------------\n",
            "New Train Dataset:\n",
            "\n",
            "   age  sex   bmi  children  smoker  region\n",
            "1   18    0  33.8         1       0       0\n",
            "2   28    0  33.0         3       0       0\n",
            "3   33    0  22.7         0       0       2 \n",
            "-----------------------------------------------\n",
            "New Label Dataset:\n",
            "\n",
            "1     1725.55\n",
            "2     4449.46\n",
            "3    21984.47\n",
            "Name: expenses, dtype: float64 \n",
            "-------------------------------\n"
          ]
        }
      ]
    },
    {
      "cell_type": "code",
      "source": [
        "# Build and compile model for predictions\n",
        "\n",
        "# Create normalization layer for the data\n",
        "normalizer = layers.Normalization(axis=-1)\n",
        "normalizer.adapt(np.array(train_dataset))\n",
        "\n",
        "# Build the model \n",
        "model = tf.keras.Sequential()\n",
        "model.add(normalizer)\n",
        "model.add(layers.Dense(64, activation='relu'))\n",
        "model.add(layers.Dense(64, activation='relu'))\n",
        "model.add(layers.Dense(1))\n",
        "\n",
        "# Compile Model with metrics for testing\n",
        "model.compile(loss='mean_absolute_error', metrics=['mae','mse'], optimizer=keras.optimizers.Adam(0.001))\n"
      ],
      "metadata": {
        "id": "XL8l9OW8oxV0"
      },
      "execution_count": 92,
      "outputs": []
    },
    {
      "cell_type": "code",
      "source": [
        "# Train the model with the training data\n",
        "hist = model.fit(train_dataset, train_labels, validation_split=0.2, verbose=2, epochs=100)"
      ],
      "metadata": {
        "colab": {
          "base_uri": "https://localhost:8080/"
        },
        "id": "8z50rVdYrQVs",
        "outputId": "6008f1d3-c95f-44ac-b0fe-59f83b0bd144"
      },
      "execution_count": 93,
      "outputs": [
        {
          "output_type": "stream",
          "name": "stdout",
          "text": [
            "Epoch 1/100\n",
            "27/27 - 1s - loss: 13030.1777 - mae: 13030.1777 - mse: 305778752.0000 - val_loss: 13305.3145 - val_mae: 13305.3145 - val_mse: 311321664.0000 - 1s/epoch - 47ms/step\n",
            "Epoch 2/100\n",
            "27/27 - 0s - loss: 13027.6572 - mae: 13027.6572 - mse: 305707968.0000 - val_loss: 13301.7012 - val_mae: 13301.7012 - val_mse: 311218848.0000 - 90ms/epoch - 3ms/step\n",
            "Epoch 3/100\n",
            "27/27 - 0s - loss: 13022.4473 - mae: 13022.4473 - mse: 305567360.0000 - val_loss: 13294.2832 - val_mae: 13294.2832 - val_mse: 311009312.0000 - 84ms/epoch - 3ms/step\n",
            "Epoch 4/100\n",
            "27/27 - 0s - loss: 13012.3252 - mae: 13012.3252 - mse: 305289632.0000 - val_loss: 13280.7158 - val_mae: 13280.7158 - val_mse: 310632512.0000 - 82ms/epoch - 3ms/step\n",
            "Epoch 5/100\n",
            "27/27 - 0s - loss: 12994.6367 - mae: 12994.6367 - mse: 304814816.0000 - val_loss: 13258.1152 - val_mae: 13258.1152 - val_mse: 310007680.0000 - 82ms/epoch - 3ms/step\n",
            "Epoch 6/100\n",
            "27/27 - 0s - loss: 12966.5752 - mae: 12966.5752 - mse: 304067776.0000 - val_loss: 13223.7988 - val_mae: 13223.7988 - val_mse: 309074944.0000 - 89ms/epoch - 3ms/step\n",
            "Epoch 7/100\n",
            "27/27 - 0s - loss: 12924.9238 - mae: 12924.9238 - mse: 302951744.0000 - val_loss: 13174.6309 - val_mae: 13174.6309 - val_mse: 307742624.0000 - 82ms/epoch - 3ms/step\n",
            "Epoch 8/100\n",
            "27/27 - 0s - loss: 12866.6562 - mae: 12866.6562 - mse: 301413536.0000 - val_loss: 13107.5312 - val_mae: 13107.5312 - val_mse: 305957792.0000 - 95ms/epoch - 4ms/step\n",
            "Epoch 9/100\n",
            "27/27 - 0s - loss: 12788.7188 - mae: 12788.7188 - mse: 299379232.0000 - val_loss: 13019.0586 - val_mae: 13019.0586 - val_mse: 303594848.0000 - 94ms/epoch - 3ms/step\n",
            "Epoch 10/100\n",
            "27/27 - 0s - loss: 12687.6348 - mae: 12687.6348 - mse: 296745280.0000 - val_loss: 12907.5195 - val_mae: 12907.5195 - val_mse: 300691392.0000 - 91ms/epoch - 3ms/step\n",
            "Epoch 11/100\n",
            "27/27 - 0s - loss: 12561.7461 - mae: 12561.7461 - mse: 293515680.0000 - val_loss: 12769.1123 - val_mae: 12769.1123 - val_mse: 297108160.0000 - 107ms/epoch - 4ms/step\n",
            "Epoch 12/100\n",
            "27/27 - 0s - loss: 12407.2793 - mae: 12407.2793 - mse: 289621184.0000 - val_loss: 12601.4199 - val_mae: 12601.4199 - val_mse: 292839840.0000 - 89ms/epoch - 3ms/step\n",
            "Epoch 13/100\n",
            "27/27 - 0s - loss: 12221.3574 - mae: 12221.3574 - mse: 284964704.0000 - val_loss: 12402.2354 - val_mae: 12402.2354 - val_mse: 287880128.0000 - 78ms/epoch - 3ms/step\n",
            "Epoch 14/100\n",
            "27/27 - 0s - loss: 12001.9609 - mae: 12001.9609 - mse: 279622752.0000 - val_loss: 12170.2002 - val_mae: 12170.2002 - val_mse: 282107968.0000 - 82ms/epoch - 3ms/step\n",
            "Epoch 15/100\n",
            "27/27 - 0s - loss: 11752.9785 - mae: 11752.9785 - mse: 273467808.0000 - val_loss: 11912.9258 - val_mae: 11912.9258 - val_mse: 275725216.0000 - 84ms/epoch - 3ms/step\n",
            "Epoch 16/100\n",
            "27/27 - 0s - loss: 11479.7178 - mae: 11479.7178 - mse: 266806784.0000 - val_loss: 11634.7793 - val_mae: 11634.7793 - val_mse: 268729152.0000 - 85ms/epoch - 3ms/step\n",
            "Epoch 17/100\n",
            "27/27 - 0s - loss: 11184.4785 - mae: 11184.4785 - mse: 259251008.0000 - val_loss: 11336.1152 - val_mae: 11336.1152 - val_mse: 260999424.0000 - 92ms/epoch - 3ms/step\n",
            "Epoch 18/100\n",
            "27/27 - 0s - loss: 10870.3789 - mae: 10870.3789 - mse: 251277024.0000 - val_loss: 11024.7588 - val_mae: 11024.7588 - val_mse: 252786128.0000 - 102ms/epoch - 4ms/step\n",
            "Epoch 19/100\n",
            "27/27 - 0s - loss: 10544.9404 - mae: 10544.9404 - mse: 242628496.0000 - val_loss: 10695.7734 - val_mae: 10695.7734 - val_mse: 244110640.0000 - 88ms/epoch - 3ms/step\n",
            "Epoch 20/100\n",
            "27/27 - 0s - loss: 10195.8047 - mae: 10195.8047 - mse: 233427840.0000 - val_loss: 10345.7695 - val_mae: 10345.7695 - val_mse: 234957984.0000 - 78ms/epoch - 3ms/step\n",
            "Epoch 21/100\n",
            "27/27 - 0s - loss: 9828.4844 - mae: 9828.4844 - mse: 223853424.0000 - val_loss: 9982.0938 - val_mae: 9982.0938 - val_mse: 225563504.0000 - 86ms/epoch - 3ms/step\n",
            "Epoch 22/100\n",
            "27/27 - 0s - loss: 9443.4658 - mae: 9443.4658 - mse: 213773616.0000 - val_loss: 9591.4111 - val_mae: 9591.4111 - val_mse: 215747152.0000 - 97ms/epoch - 4ms/step\n",
            "Epoch 23/100\n",
            "27/27 - 0s - loss: 9040.2949 - mae: 9040.2949 - mse: 203529088.0000 - val_loss: 9194.9463 - val_mae: 9194.9463 - val_mse: 205658768.0000 - 80ms/epoch - 3ms/step\n",
            "Epoch 24/100\n",
            "27/27 - 0s - loss: 8633.2471 - mae: 8633.2471 - mse: 192946000.0000 - val_loss: 8800.8486 - val_mae: 8800.8486 - val_mse: 195754672.0000 - 94ms/epoch - 3ms/step\n",
            "Epoch 25/100\n",
            "27/27 - 0s - loss: 8218.0283 - mae: 8218.0283 - mse: 182791776.0000 - val_loss: 8408.2764 - val_mae: 8408.2764 - val_mse: 185970304.0000 - 84ms/epoch - 3ms/step\n",
            "Epoch 26/100\n",
            "27/27 - 0s - loss: 7804.7495 - mae: 7804.7495 - mse: 172365040.0000 - val_loss: 8027.4409 - val_mae: 8027.4409 - val_mse: 176251936.0000 - 90ms/epoch - 3ms/step\n",
            "Epoch 27/100\n",
            "27/27 - 0s - loss: 7413.1548 - mae: 7413.1548 - mse: 162474112.0000 - val_loss: 7649.3721 - val_mae: 7649.3721 - val_mse: 166935056.0000 - 82ms/epoch - 3ms/step\n",
            "Epoch 28/100\n",
            "27/27 - 0s - loss: 7041.2046 - mae: 7041.2046 - mse: 153180096.0000 - val_loss: 7313.3936 - val_mae: 7313.3936 - val_mse: 158577408.0000 - 92ms/epoch - 3ms/step\n",
            "Epoch 29/100\n",
            "27/27 - 0s - loss: 6698.9351 - mae: 6698.9351 - mse: 144093744.0000 - val_loss: 7008.3340 - val_mae: 7008.3340 - val_mse: 150749584.0000 - 85ms/epoch - 3ms/step\n",
            "Epoch 30/100\n",
            "27/27 - 0s - loss: 6398.7061 - mae: 6398.7061 - mse: 136177856.0000 - val_loss: 6724.0596 - val_mae: 6724.0596 - val_mse: 143106832.0000 - 85ms/epoch - 3ms/step\n",
            "Epoch 31/100\n",
            "27/27 - 0s - loss: 6135.2358 - mae: 6135.2358 - mse: 128946744.0000 - val_loss: 6508.5225 - val_mae: 6508.5225 - val_mse: 137304720.0000 - 90ms/epoch - 3ms/step\n",
            "Epoch 32/100\n",
            "27/27 - 0s - loss: 5911.4702 - mae: 5911.4702 - mse: 122756816.0000 - val_loss: 6303.8560 - val_mae: 6303.8560 - val_mse: 131731632.0000 - 85ms/epoch - 3ms/step\n",
            "Epoch 33/100\n",
            "27/27 - 0s - loss: 5706.7129 - mae: 5706.7129 - mse: 117403024.0000 - val_loss: 6128.1963 - val_mae: 6128.1963 - val_mse: 126771344.0000 - 90ms/epoch - 3ms/step\n",
            "Epoch 34/100\n",
            "27/27 - 0s - loss: 5520.2832 - mae: 5520.2832 - mse: 112892040.0000 - val_loss: 5985.7202 - val_mae: 5985.7202 - val_mse: 122782112.0000 - 88ms/epoch - 3ms/step\n",
            "Epoch 35/100\n",
            "27/27 - 0s - loss: 5360.1270 - mae: 5360.1270 - mse: 108883552.0000 - val_loss: 5845.4668 - val_mae: 5845.4668 - val_mse: 118805560.0000 - 81ms/epoch - 3ms/step\n",
            "Epoch 36/100\n",
            "27/27 - 0s - loss: 5206.6758 - mae: 5206.6758 - mse: 104747456.0000 - val_loss: 5698.3633 - val_mae: 5698.3633 - val_mse: 114185536.0000 - 96ms/epoch - 4ms/step\n",
            "Epoch 37/100\n",
            "27/27 - 0s - loss: 5058.4175 - mae: 5058.4175 - mse: 100421136.0000 - val_loss: 5565.1323 - val_mae: 5565.1323 - val_mse: 110009656.0000 - 81ms/epoch - 3ms/step\n",
            "Epoch 38/100\n",
            "27/27 - 0s - loss: 4921.8716 - mae: 4921.8716 - mse: 96692832.0000 - val_loss: 5429.7153 - val_mae: 5429.7153 - val_mse: 105564872.0000 - 80ms/epoch - 3ms/step\n",
            "Epoch 39/100\n",
            "27/27 - 0s - loss: 4788.2832 - mae: 4788.2832 - mse: 92443120.0000 - val_loss: 5282.8169 - val_mae: 5282.8169 - val_mse: 100919032.0000 - 87ms/epoch - 3ms/step\n",
            "Epoch 40/100\n",
            "27/27 - 0s - loss: 4648.3569 - mae: 4648.3569 - mse: 88532272.0000 - val_loss: 5140.1304 - val_mae: 5140.1304 - val_mse: 96424656.0000 - 91ms/epoch - 3ms/step\n",
            "Epoch 41/100\n",
            "27/27 - 0s - loss: 4507.9976 - mae: 4507.9976 - mse: 84447448.0000 - val_loss: 4992.8242 - val_mae: 4992.8242 - val_mse: 92043232.0000 - 104ms/epoch - 4ms/step\n",
            "Epoch 42/100\n",
            "27/27 - 0s - loss: 4366.6909 - mae: 4366.6909 - mse: 80266864.0000 - val_loss: 4836.4912 - val_mae: 4836.4912 - val_mse: 87367096.0000 - 83ms/epoch - 3ms/step\n",
            "Epoch 43/100\n",
            "27/27 - 0s - loss: 4230.0820 - mae: 4230.0820 - mse: 76589024.0000 - val_loss: 4687.1680 - val_mae: 4687.1680 - val_mse: 83378136.0000 - 91ms/epoch - 3ms/step\n",
            "Epoch 44/100\n",
            "27/27 - 0s - loss: 4094.8438 - mae: 4094.8438 - mse: 72773800.0000 - val_loss: 4525.9834 - val_mae: 4525.9834 - val_mse: 78973248.0000 - 90ms/epoch - 3ms/step\n",
            "Epoch 45/100\n",
            "27/27 - 0s - loss: 3965.8550 - mae: 3965.8550 - mse: 69094952.0000 - val_loss: 4372.3599 - val_mae: 4372.3599 - val_mse: 75016432.0000 - 81ms/epoch - 3ms/step\n",
            "Epoch 46/100\n",
            "27/27 - 0s - loss: 3851.2197 - mae: 3851.2197 - mse: 66084800.0000 - val_loss: 4227.0073 - val_mae: 4227.0073 - val_mse: 71369376.0000 - 84ms/epoch - 3ms/step\n",
            "Epoch 47/100\n",
            "27/27 - 0s - loss: 3752.9634 - mae: 3752.9634 - mse: 63049348.0000 - val_loss: 4106.3228 - val_mae: 4106.3228 - val_mse: 68407752.0000 - 83ms/epoch - 3ms/step\n",
            "Epoch 48/100\n",
            "27/27 - 0s - loss: 3676.2173 - mae: 3676.2173 - mse: 60577388.0000 - val_loss: 3998.5337 - val_mae: 3998.5337 - val_mse: 65249852.0000 - 90ms/epoch - 3ms/step\n",
            "Epoch 49/100\n",
            "27/27 - 0s - loss: 3614.9404 - mae: 3614.9404 - mse: 58632012.0000 - val_loss: 3928.9998 - val_mae: 3928.9998 - val_mse: 63320540.0000 - 83ms/epoch - 3ms/step\n",
            "Epoch 50/100\n",
            "27/27 - 0s - loss: 3570.2007 - mae: 3570.2007 - mse: 56671368.0000 - val_loss: 3870.7429 - val_mae: 3870.7429 - val_mse: 61258728.0000 - 99ms/epoch - 4ms/step\n",
            "Epoch 51/100\n",
            "27/27 - 0s - loss: 3532.2068 - mae: 3532.2068 - mse: 55137328.0000 - val_loss: 3833.5898 - val_mae: 3833.5898 - val_mse: 59677736.0000 - 91ms/epoch - 3ms/step\n",
            "Epoch 52/100\n",
            "27/27 - 0s - loss: 3508.3162 - mae: 3508.3162 - mse: 54073504.0000 - val_loss: 3802.3955 - val_mae: 3802.3955 - val_mse: 58436988.0000 - 91ms/epoch - 3ms/step\n",
            "Epoch 53/100\n",
            "27/27 - 0s - loss: 3489.4988 - mae: 3489.4988 - mse: 53221592.0000 - val_loss: 3779.3137 - val_mae: 3779.3137 - val_mse: 57472516.0000 - 85ms/epoch - 3ms/step\n",
            "Epoch 54/100\n",
            "27/27 - 0s - loss: 3473.0908 - mae: 3473.0908 - mse: 52844304.0000 - val_loss: 3765.7913 - val_mae: 3765.7913 - val_mse: 56981840.0000 - 98ms/epoch - 4ms/step\n",
            "Epoch 55/100\n",
            "27/27 - 0s - loss: 3458.7336 - mae: 3458.7336 - mse: 51808720.0000 - val_loss: 3745.0820 - val_mae: 3745.0820 - val_mse: 56093088.0000 - 88ms/epoch - 3ms/step\n",
            "Epoch 56/100\n",
            "27/27 - 0s - loss: 3442.2720 - mae: 3442.2720 - mse: 51352020.0000 - val_loss: 3728.9163 - val_mae: 3728.9163 - val_mse: 55384260.0000 - 95ms/epoch - 4ms/step\n",
            "Epoch 57/100\n",
            "27/27 - 0s - loss: 3428.7258 - mae: 3428.7258 - mse: 51056240.0000 - val_loss: 3714.2578 - val_mae: 3714.2578 - val_mse: 54954668.0000 - 94ms/epoch - 3ms/step\n",
            "Epoch 58/100\n",
            "27/27 - 0s - loss: 3416.0085 - mae: 3416.0085 - mse: 50250012.0000 - val_loss: 3697.0308 - val_mae: 3697.0308 - val_mse: 54034336.0000 - 78ms/epoch - 3ms/step\n",
            "Epoch 59/100\n",
            "27/27 - 0s - loss: 3402.6003 - mae: 3402.6003 - mse: 49481564.0000 - val_loss: 3679.8027 - val_mae: 3679.8027 - val_mse: 53239492.0000 - 96ms/epoch - 4ms/step\n",
            "Epoch 60/100\n",
            "27/27 - 0s - loss: 3389.3269 - mae: 3389.3269 - mse: 49124460.0000 - val_loss: 3669.0940 - val_mae: 3669.0940 - val_mse: 52876224.0000 - 87ms/epoch - 3ms/step\n",
            "Epoch 61/100\n",
            "27/27 - 0s - loss: 3377.5730 - mae: 3377.5730 - mse: 48709924.0000 - val_loss: 3653.6631 - val_mae: 3653.6631 - val_mse: 52248596.0000 - 93ms/epoch - 3ms/step\n",
            "Epoch 62/100\n",
            "27/27 - 0s - loss: 3367.1929 - mae: 3367.1929 - mse: 48117428.0000 - val_loss: 3636.2578 - val_mae: 3636.2578 - val_mse: 51409004.0000 - 83ms/epoch - 3ms/step\n",
            "Epoch 63/100\n",
            "27/27 - 0s - loss: 3355.6775 - mae: 3355.6775 - mse: 47667984.0000 - val_loss: 3626.4412 - val_mae: 3626.4412 - val_mse: 51159916.0000 - 98ms/epoch - 4ms/step\n",
            "Epoch 64/100\n",
            "27/27 - 0s - loss: 3347.6155 - mae: 3347.6155 - mse: 47239288.0000 - val_loss: 3611.4873 - val_mae: 3611.4873 - val_mse: 50498404.0000 - 85ms/epoch - 3ms/step\n",
            "Epoch 65/100\n",
            "27/27 - 0s - loss: 3336.4834 - mae: 3336.4834 - mse: 46988884.0000 - val_loss: 3603.8354 - val_mae: 3603.8354 - val_mse: 49850500.0000 - 81ms/epoch - 3ms/step\n",
            "Epoch 66/100\n",
            "27/27 - 0s - loss: 3327.3530 - mae: 3327.3530 - mse: 46357816.0000 - val_loss: 3588.6416 - val_mae: 3588.6416 - val_mse: 49484200.0000 - 100ms/epoch - 4ms/step\n",
            "Epoch 67/100\n",
            "27/27 - 0s - loss: 3316.0989 - mae: 3316.0989 - mse: 45926816.0000 - val_loss: 3576.2310 - val_mae: 3576.2310 - val_mse: 48768108.0000 - 80ms/epoch - 3ms/step\n",
            "Epoch 68/100\n",
            "27/27 - 0s - loss: 3306.4927 - mae: 3306.4927 - mse: 45286580.0000 - val_loss: 3563.9058 - val_mae: 3563.9058 - val_mse: 48055432.0000 - 81ms/epoch - 3ms/step\n",
            "Epoch 69/100\n",
            "27/27 - 0s - loss: 3298.1702 - mae: 3298.1702 - mse: 44953220.0000 - val_loss: 3553.8481 - val_mae: 3553.8481 - val_mse: 47542672.0000 - 87ms/epoch - 3ms/step\n",
            "Epoch 70/100\n",
            "27/27 - 0s - loss: 3286.7769 - mae: 3286.7769 - mse: 44492668.0000 - val_loss: 3543.4229 - val_mae: 3543.4229 - val_mse: 47158912.0000 - 88ms/epoch - 3ms/step\n",
            "Epoch 71/100\n",
            "27/27 - 0s - loss: 3278.2764 - mae: 3278.2764 - mse: 43976884.0000 - val_loss: 3531.3977 - val_mae: 3531.3977 - val_mse: 46390700.0000 - 82ms/epoch - 3ms/step\n",
            "Epoch 72/100\n",
            "27/27 - 0s - loss: 3266.4937 - mae: 3266.4937 - mse: 43546000.0000 - val_loss: 3520.7510 - val_mae: 3520.7510 - val_mse: 45968672.0000 - 86ms/epoch - 3ms/step\n",
            "Epoch 73/100\n",
            "27/27 - 0s - loss: 3256.9297 - mae: 3256.9297 - mse: 43138204.0000 - val_loss: 3509.5552 - val_mae: 3509.5552 - val_mse: 45363784.0000 - 91ms/epoch - 3ms/step\n",
            "Epoch 74/100\n",
            "27/27 - 0s - loss: 3248.1086 - mae: 3248.1086 - mse: 42594000.0000 - val_loss: 3498.5991 - val_mae: 3498.5991 - val_mse: 44747028.0000 - 93ms/epoch - 3ms/step\n",
            "Epoch 75/100\n",
            "27/27 - 0s - loss: 3238.6541 - mae: 3238.6541 - mse: 42006128.0000 - val_loss: 3486.9697 - val_mae: 3486.9697 - val_mse: 44095816.0000 - 101ms/epoch - 4ms/step\n",
            "Epoch 76/100\n",
            "27/27 - 0s - loss: 3231.7229 - mae: 3231.7229 - mse: 41614508.0000 - val_loss: 3474.9390 - val_mae: 3474.9390 - val_mse: 43539048.0000 - 83ms/epoch - 3ms/step\n",
            "Epoch 77/100\n",
            "27/27 - 0s - loss: 3221.7388 - mae: 3221.7388 - mse: 41319188.0000 - val_loss: 3466.2856 - val_mae: 3466.2856 - val_mse: 43240936.0000 - 95ms/epoch - 4ms/step\n",
            "Epoch 78/100\n",
            "27/27 - 0s - loss: 3214.3752 - mae: 3214.3752 - mse: 41070464.0000 - val_loss: 3457.2241 - val_mae: 3457.2241 - val_mse: 42874340.0000 - 78ms/epoch - 3ms/step\n",
            "Epoch 79/100\n",
            "27/27 - 0s - loss: 3206.8108 - mae: 3206.8108 - mse: 40722528.0000 - val_loss: 3446.6077 - val_mae: 3446.6077 - val_mse: 42312752.0000 - 86ms/epoch - 3ms/step\n",
            "Epoch 80/100\n",
            "27/27 - 0s - loss: 3199.2236 - mae: 3199.2236 - mse: 40378560.0000 - val_loss: 3435.9104 - val_mae: 3435.9104 - val_mse: 41892332.0000 - 95ms/epoch - 4ms/step\n",
            "Epoch 81/100\n",
            "27/27 - 0s - loss: 3190.2368 - mae: 3190.2368 - mse: 40060456.0000 - val_loss: 3426.7808 - val_mae: 3426.7808 - val_mse: 41452920.0000 - 81ms/epoch - 3ms/step\n",
            "Epoch 82/100\n",
            "27/27 - 0s - loss: 3181.8262 - mae: 3181.8262 - mse: 39680236.0000 - val_loss: 3416.7595 - val_mae: 3416.7595 - val_mse: 40953028.0000 - 89ms/epoch - 3ms/step\n",
            "Epoch 83/100\n",
            "27/27 - 0s - loss: 3175.8174 - mae: 3175.8174 - mse: 39454380.0000 - val_loss: 3409.6648 - val_mae: 3409.6648 - val_mse: 40742180.0000 - 96ms/epoch - 4ms/step\n",
            "Epoch 84/100\n",
            "27/27 - 0s - loss: 3167.0630 - mae: 3167.0630 - mse: 39096060.0000 - val_loss: 3397.7754 - val_mae: 3397.7754 - val_mse: 40369936.0000 - 88ms/epoch - 3ms/step\n",
            "Epoch 85/100\n",
            "27/27 - 0s - loss: 3158.9556 - mae: 3158.9556 - mse: 38832332.0000 - val_loss: 3386.6948 - val_mae: 3386.6948 - val_mse: 39844460.0000 - 98ms/epoch - 4ms/step\n",
            "Epoch 86/100\n",
            "27/27 - 0s - loss: 3151.4155 - mae: 3151.4155 - mse: 38565924.0000 - val_loss: 3376.9238 - val_mae: 3376.9238 - val_mse: 39454708.0000 - 87ms/epoch - 3ms/step\n",
            "Epoch 87/100\n",
            "27/27 - 0s - loss: 3143.6592 - mae: 3143.6592 - mse: 38158508.0000 - val_loss: 3365.5667 - val_mae: 3365.5667 - val_mse: 39060360.0000 - 92ms/epoch - 3ms/step\n",
            "Epoch 88/100\n",
            "27/27 - 0s - loss: 3134.8792 - mae: 3134.8792 - mse: 38017132.0000 - val_loss: 3359.1902 - val_mae: 3359.1902 - val_mse: 38923628.0000 - 80ms/epoch - 3ms/step\n",
            "Epoch 89/100\n",
            "27/27 - 0s - loss: 3126.3950 - mae: 3126.3950 - mse: 37626760.0000 - val_loss: 3343.5264 - val_mae: 3343.5264 - val_mse: 38261604.0000 - 84ms/epoch - 3ms/step\n",
            "Epoch 90/100\n",
            "27/27 - 0s - loss: 3116.5625 - mae: 3116.5625 - mse: 37386968.0000 - val_loss: 3333.8044 - val_mae: 3333.8044 - val_mse: 37745188.0000 - 113ms/epoch - 4ms/step\n",
            "Epoch 91/100\n",
            "27/27 - 0s - loss: 3109.6123 - mae: 3109.6123 - mse: 37178192.0000 - val_loss: 3323.0820 - val_mae: 3323.0820 - val_mse: 37654912.0000 - 129ms/epoch - 5ms/step\n",
            "Epoch 92/100\n",
            "27/27 - 0s - loss: 3103.6272 - mae: 3103.6272 - mse: 37011044.0000 - val_loss: 3311.8618 - val_mae: 3311.8618 - val_mse: 37375976.0000 - 129ms/epoch - 5ms/step\n",
            "Epoch 93/100\n",
            "27/27 - 0s - loss: 3092.8459 - mae: 3092.8459 - mse: 36867340.0000 - val_loss: 3303.8398 - val_mae: 3303.8398 - val_mse: 37104780.0000 - 131ms/epoch - 5ms/step\n",
            "Epoch 94/100\n",
            "27/27 - 0s - loss: 3085.3123 - mae: 3085.3123 - mse: 36582312.0000 - val_loss: 3294.6399 - val_mae: 3294.6399 - val_mse: 36739884.0000 - 121ms/epoch - 4ms/step\n",
            "Epoch 95/100\n",
            "27/27 - 0s - loss: 3077.5652 - mae: 3077.5652 - mse: 36454996.0000 - val_loss: 3284.8630 - val_mae: 3284.8630 - val_mse: 36503480.0000 - 128ms/epoch - 5ms/step\n",
            "Epoch 96/100\n",
            "27/27 - 0s - loss: 3067.4736 - mae: 3067.4736 - mse: 36261688.0000 - val_loss: 3273.1279 - val_mae: 3273.1279 - val_mse: 36170392.0000 - 221ms/epoch - 8ms/step\n",
            "Epoch 97/100\n",
            "27/27 - 0s - loss: 3059.1191 - mae: 3059.1191 - mse: 36118164.0000 - val_loss: 3264.9507 - val_mae: 3264.9507 - val_mse: 36035056.0000 - 135ms/epoch - 5ms/step\n",
            "Epoch 98/100\n",
            "27/27 - 0s - loss: 3052.4153 - mae: 3052.4153 - mse: 35975716.0000 - val_loss: 3252.6536 - val_mae: 3252.6536 - val_mse: 35621540.0000 - 119ms/epoch - 4ms/step\n",
            "Epoch 99/100\n",
            "27/27 - 0s - loss: 3042.2864 - mae: 3042.2864 - mse: 35886832.0000 - val_loss: 3243.9529 - val_mae: 3243.9529 - val_mse: 35548720.0000 - 125ms/epoch - 5ms/step\n",
            "Epoch 100/100\n",
            "27/27 - 0s - loss: 3035.0750 - mae: 3035.0750 - mse: 35826016.0000 - val_loss: 3234.4502 - val_mae: 3234.4502 - val_mse: 35447424.0000 - 116ms/epoch - 4ms/step\n"
          ]
        }
      ]
    },
    {
      "cell_type": "code",
      "source": [
        "# Review loss history\n",
        "plt.plot(hist.history['loss'], label='Loss')\n",
        "plt.plot(hist.history['val_loss'], label='Val_loss')\n",
        "plt.legend()\n"
      ],
      "metadata": {
        "colab": {
          "base_uri": "https://localhost:8080/",
          "height": 283
        },
        "id": "4UIFQk1zrTmv",
        "outputId": "85efe842-f024-4d59-9a99-217d3af31350"
      },
      "execution_count": 97,
      "outputs": [
        {
          "output_type": "execute_result",
          "data": {
            "text/plain": [
              "<matplotlib.legend.Legend at 0x7fda647dd100>"
            ]
          },
          "metadata": {},
          "execution_count": 97
        },
        {
          "output_type": "display_data",
          "data": {
            "text/plain": [
              "<Figure size 432x288 with 1 Axes>"
            ],
            "image/png": "[encoded data removed]"
          },
          "metadata": {
            "needs_background": "light"
          }
        }
      ]
    },
    {
      "cell_type": "code",
      "execution_count": 98,
      "metadata": {
        "id": "Xe7RXH3N3CWU",
        "colab": {
          "base_uri": "https://localhost:8080/",
          "height": 354
        },
        "outputId": "1c9c8083-281c-4df0-9df3-a822aeb255ee"
      },
      "outputs": [
        {
          "output_type": "stream",
          "name": "stdout",
          "text": [
            "9/9 - 0s - loss: 2773.8401 - mae: 2773.8401 - mse: 30740522.0000 - 53ms/epoch - 6ms/step\n",
            "Testing set Mean Abs Error: 2773.84 expenses\n",
            "You passed the challenge. Great job!\n",
            "9/9 [==============================] - 0s 3ms/step\n"
          ]
        },
        {
          "output_type": "display_data",
          "data": {
            "text/plain": [
              "<Figure size 432x288 with 1 Axes>"
            ],
            "image/png": "[encoded data removed]"
          },
          "metadata": {
            "needs_background": "light"
          }
        }
      ],
      "source": [
        "# RUN THIS CELL TO TEST YOUR MODEL. DO NOT MODIFY CONTENTS.\n",
        "# Test model by checking how well the model generalizes using the test set.\n",
        "loss, mae, mse = model.evaluate(test_dataset, test_labels, verbose=2)\n",
        "\n",
        "print(\"Testing set Mean Abs Error: {:5.2f} expenses\".format(mae))\n",
        "\n",
        "if mae < 3500:\n",
        "  print(\"You passed the challenge. Great job!\")\n",
        "else:\n",
        "  print(\"The Mean Abs Error must be less than 3500. Keep trying.\")\n",
        "\n",
        "# Plot predictions.\n",
        "test_predictions = model.predict(test_dataset).flatten()\n",
        "\n",
        "a = plt.axes(aspect='equal')\n",
        "plt.scatter(test_labels, test_predictions)\n",
        "plt.xlabel('True values (expenses)')\n",
        "plt.ylabel('Predictions (expenses)')\n",
        "lims = [0, 50000]\n",
        "plt.xlim(lims)\n",
        "plt.ylim(lims)\n",
        "_ = plt.plot(lims,lims)\n"
      ]
    }
  ],
  "metadata": {
    "colab": {
      "provenance": [],
      "toc_visible": true,
      "include_colab_link": true
    },
    "kernelspec": {
      "display_name": "Python 3",
      "name": "python3"
    },
    "gpuClass": "standard"
  },
  "nbformat": 4,
  "nbformat_minor": 0
}